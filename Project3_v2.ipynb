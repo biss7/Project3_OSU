{
 "cells": [
  {
   "cell_type": "code",
   "execution_count": 1,
   "metadata": {},
   "outputs": [],
   "source": [
    "# Import dependencies and libraries\n",
    "from pymongo import MongoClient\n",
    "import json\n",
    "import requests\n",
    "from pprint import pprint\n",
    "import pandas as pd\n",
    "from datetime import datetime"
   ]
  },
  {
   "cell_type": "code",
   "execution_count": 2,
   "metadata": {},
   "outputs": [],
   "source": [
    "# Create an instance of MongoClient\n",
    "mongo = MongoClient(port=27017)\n",
    "\n",
    "# Assign the database to a variable name\n",
    "db = mongo['crimes']\n",
    "\n",
    "# Assign the collection to a variable\n",
    "chicago = db['chicago']"
   ]
  },
  {
   "cell_type": "code",
   "execution_count": 3,
   "metadata": {},
   "outputs": [],
   "source": [
    "# Collect the data from the API\n",
    "url = \"https://data.cityofchicago.org/resource/ijzp-q8t2.json?$$app_token=7NHu8Y4PkgGZrMzrNtJwJ20bm\"\n",
    "response = requests.get(url)\n",
    "list_of_crimes = response.json()"
   ]
  },
  {
   "cell_type": "code",
   "execution_count": 4,
   "metadata": {},
   "outputs": [
    {
     "name": "stdout",
     "output_type": "stream",
     "text": [
      "{':@computed_region_43wa_7qmu': '38',\n",
      " ':@computed_region_6mkv_f3dw': '21849',\n",
      " ':@computed_region_awaf_s7ux': '46',\n",
      " ':@computed_region_bdys_3d7i': '167',\n",
      " ':@computed_region_d3ds_rm58': '48',\n",
      " ':@computed_region_d9mm_jgwp': '1',\n",
      " ':@computed_region_rpca_8um6': '20',\n",
      " ':@computed_region_vrxf_vc4k': '13',\n",
      " 'arrest': False,\n",
      " 'beat': '1712',\n",
      " 'block': '054XX N SPAULDING AVE',\n",
      " 'case_number': 'JG399756',\n",
      " 'community_area': '13',\n",
      " 'date': '2023-08-27T00:00:00.000',\n",
      " 'description': 'ATTEMPT - AUTOMOBILE',\n",
      " 'district': '017',\n",
      " 'domestic': False,\n",
      " 'fbi_code': '07',\n",
      " 'id': '13190054',\n",
      " 'iucr': '0920',\n",
      " 'latitude': '41.980392026',\n",
      " 'location': {'human_address': '{\"address\": \"\", \"city\": \"\", \"state\": \"\", '\n",
      "                               '\"zip\": \"\"}',\n",
      "              'latitude': '41.980392026',\n",
      "              'longitude': '-87.711229533'},\n",
      " 'location_description': 'STREET',\n",
      " 'longitude': '-87.711229533',\n",
      " 'primary_type': 'MOTOR VEHICLE THEFT',\n",
      " 'updated_on': '2023-09-03T15:43:16.000',\n",
      " 'ward': '39',\n",
      " 'x_coordinate': '1153398',\n",
      " 'y_coordinate': '1936059',\n",
      " 'year': '2023'}\n"
     ]
    }
   ],
   "source": [
    "# Select an item from the returned data to view\n",
    "item_to_view = list_of_crimes[0]\n",
    "pprint(item_to_view)"
   ]
  },
  {
   "cell_type": "code",
   "execution_count": 5,
   "metadata": {},
   "outputs": [
    {
     "data": {
      "text/plain": [
       "<pymongo.results.DeleteResult at 0x2709578b380>"
      ]
     },
     "execution_count": 5,
     "metadata": {},
     "output_type": "execute_result"
    }
   ],
   "source": [
    "# Remove all documents currently in the chicago collection. \n",
    "#This is a precautionary measure for times where retrieving data happens at multiple, inconsistent times. \n",
    "#It allows us to start fresh.\n",
    "chicago.delete_many({})"
   ]
  },
  {
   "cell_type": "code",
   "execution_count": 6,
   "metadata": {},
   "outputs": [],
   "source": [
    "# Loop through the list of crimes and only add those that are not currently in the collection.\n",
    "for crime_to_add in list_of_crimes:\n",
    "    if chicago.find_one({\"id\":crime_to_add[\"id\"]}) == None:\n",
    "        chicago.insert_one(crime_to_add)\n",
    "    else: print(f\"Crime is already in the database collection.\")\n"
   ]
  },
  {
   "cell_type": "code",
   "execution_count": 7,
   "metadata": {},
   "outputs": [
    {
     "data": {
      "text/plain": [
       "<pymongo.results.DeleteResult at 0x2709854b980>"
      ]
     },
     "execution_count": 7,
     "metadata": {},
     "output_type": "execute_result"
    }
   ],
   "source": [
    "# Filter out any data that doesn't contain a community_area.\n",
    "query = {\"community_area\": None}\n",
    "chicago.delete_many(query)"
   ]
  },
  {
   "cell_type": "code",
   "execution_count": 8,
   "metadata": {},
   "outputs": [
    {
     "data": {
      "text/plain": [
       "<pymongo.results.DeleteResult at 0x2709854b000>"
      ]
     },
     "execution_count": 8,
     "metadata": {},
     "output_type": "execute_result"
    }
   ],
   "source": [
    "# Filter out any data that doesn't contain a latitude.\n",
    "query = {\"latitude\": None}\n",
    "chicago.delete_many(query)"
   ]
  },
  {
   "cell_type": "code",
   "execution_count": 9,
   "metadata": {},
   "outputs": [
    {
     "data": {
      "text/plain": [
       "<pymongo.results.DeleteResult at 0x27098086400>"
      ]
     },
     "execution_count": 9,
     "metadata": {},
     "output_type": "execute_result"
    }
   ],
   "source": [
    "# Filter out any data that doesn't contain a longitude.\n",
    "query = {\"longitude\": None}\n",
    "chicago.delete_many(query)"
   ]
  },
  {
   "cell_type": "code",
   "execution_count": 10,
   "metadata": {},
   "outputs": [],
   "source": [
    "# Change the date formatting. \n",
    "for document in chicago.find():\n",
    "    datetime_string = document[\"date\"]\n",
    "    python_datetime = datetime.strptime(datetime_string, \"%Y-%m-%dT%H:%M:%S.%f\")\n",
    "    date = python_datetime.date().strftime(\"%m/%d/%Y\")\n",
    "    time = python_datetime.time().strftime(\"%H:%M\")\n",
    "    chicago.update_one(\n",
    "        {\"id\": document[\"id\"]},\n",
    "        {\n",
    "            \"$set\":{\n",
    "                \"occurance_date\": date,\n",
    "                \"occurance_time\": time\n",
    "            }\n",
    "        }\n",
    "    )"
   ]
  },
  {
   "cell_type": "code",
   "execution_count": 11,
   "metadata": {},
   "outputs": [
    {
     "data": {
      "text/plain": [
       "<pymongo.results.DeleteResult at 0x2709898b980>"
      ]
     },
     "execution_count": 11,
     "metadata": {},
     "output_type": "execute_result"
    }
   ],
   "source": [
    "# The data may come through with mutliple dates. Filter out all days, except what is predicted to be the latest full day.\n",
    "available_dates = chicago.find().sort(\"occurance_date\", -1).distinct(\"occurance_date\")\n",
    "if len(available_dates)>2:\n",
    "    selected_date = available_dates[len(available_dates)-2]\n",
    "else:\n",
    "    selected_date = available_dates[len(available_dates)-1]\n",
    "\n",
    "query = {\"occurance_date\": {\"$ne\": selected_date}}\n",
    "chicago.delete_many(query)"
   ]
  },
  {
   "cell_type": "code",
   "execution_count": 18,
   "metadata": {},
   "outputs": [],
   "source": [
    "# Group by community_area with subgroups of primary_types. Save results as a new collection called chicago_community_by_crime.\n",
    "pipeline = [\n",
    "    {\n",
    "        \"$group\":{\n",
    "            \"_id\":{\n",
    "                \"community_area\":\"$community_area\",\n",
    "                \"primary_type\":\"$primary_type\"\n",
    "            },\n",
    "            \"count\":{\"$sum\":1}\n",
    "        }\n",
    "    },\n",
    "    {\n",
    "        \"$group\":{\n",
    "            \"_id\": \"$_id.community_area\",\n",
    "            \"crime\":{\n",
    "                \"$push\":{\n",
    "                    \"type\":\"$_id.primary_type\",\n",
    "                    \"count\":\"$count\"\n",
    "                }\n",
    "            }\n",
    "        }\n",
    "    },\n",
    "    {\n",
    "        \"$out\":\"chicago_community_by_crime\"\n",
    "    }\n",
    "]\n",
    "\n",
    "chicago_community_by_crime = list(chicago.aggregate(pipeline))"
   ]
  },
  {
   "cell_type": "code",
   "execution_count": 19,
   "metadata": {},
   "outputs": [],
   "source": [
    "# Group by primary_types with subgroups of community_area. Save results as a new collection called chicago_crime_by_community.\n",
    "pipeline = [\n",
    "    {\n",
    "        \"$group\":{\n",
    "            \"_id\":{\n",
    "                \"primary_type\":\"$primary_type\",\n",
    "                \"community_area\":\"$community_area\",\n",
    "            },\n",
    "            \"count\":{\"$sum\":1}\n",
    "        }\n",
    "    },\n",
    "    {\n",
    "        \"$group\":{\n",
    "            \"_id\": \"$_id.primary_type\",\n",
    "            \"communities\":{\n",
    "                \"$push\":{\n",
    "                    \"community\":\"$_id.community_area\",\n",
    "                    \"count\":\"$count\"\n",
    "                }\n",
    "            }\n",
    "        }\n",
    "    },\n",
    "    {\n",
    "        \"$out\":\"chicago_crime_by_community\"\n",
    "    }\n",
    "]\n",
    "\n",
    "chicago_crime_by_community = list(chicago.aggregate(pipeline))"
   ]
  },
  {
   "cell_type": "code",
   "execution_count": 20,
   "metadata": {},
   "outputs": [],
   "source": [
    "# Group by primary_types with subgroups of occurance_time. Save results as a new collection called chicago_crime_by_time.\n",
    "pipeline = [\n",
    "    {\n",
    "        \"$group\":{\n",
    "            \"_id\":{\n",
    "                \"primary_type\":\"$primary_type\",\n",
    "                \"occurance_time\":\"$occurance_time\",\n",
    "            },\n",
    "            \"count\":{\"$sum\":1}\n",
    "        }\n",
    "    },\n",
    "    {\n",
    "        \"$group\":{\n",
    "            \"_id\": \"$_id.primary_type\",\n",
    "            \"times\":{\n",
    "                \"$push\":{\n",
    "                    \"time\":\"$_id.occurance_time\",\n",
    "                    \"count\":\"$count\"\n",
    "                }\n",
    "            },\n",
    "        }\n",
    "    },\n",
    "    {\n",
    "        \"$out\":\"chicago_crime_by_time\"\n",
    "    }\n",
    "]\n",
    "\n",
    "chicago_crime_by_time = list(chicago.aggregate(pipeline))"
   ]
  },
  {
   "cell_type": "code",
   "execution_count": 15,
   "metadata": {},
   "outputs": [],
   "source": [
    "# USE THIS CODE ONLY IF WE CHOOSE TO USE MULTIPLE DATES - USE IT AS A TEMPLATE FOR THE OTHER AGGREGATIONS AS WELL\n",
    "\n",
    "# Group by crime and then time - take the average if multiple days. Save results as a new collection called chicago_by_time.\n",
    "#pipeline = [\n",
    "#    {\n",
    "#        \"$group\":{\n",
    "#            \"_id\":{\n",
    "#                \"type\":\"$primary_type\",\n",
    "#                \"time\":\"$occurance_time\",\n",
    "#                \"date\":\"$occurance_date\",\n",
    "#            },\n",
    "#            \"count\":{\"$sum\":1}\n",
    "#        }\n",
    "#    },\n",
    "#    {\n",
    "#        \"$group\":{\n",
    "#            \"_id\":{\n",
    "#                \"type\":\"$_id.type\",\n",
    "#                \"time\":\"$_id.time\"\n",
    "#            },\n",
    "#            \"dates\":{\n",
    "#                \"$push\":{\n",
    "#                    \"date\":\"$_id.date\",\n",
    "#                    \"count\":\"$count\"\n",
    "#                }\n",
    "#            }\n",
    "#        }\n",
    "#    },\n",
    "#    {\n",
    "#        \"$group\":{\n",
    "#            \"_id\": \"$_id.type\",\n",
    "#            \"occurances\":{\n",
    "#                \"$push\":{\n",
    "#                    \"time\":\"$_id.time\",\n",
    "#                    \"dates\":\"$dates\"\n",
    "#                }\n",
    "#            }\n",
    "#        }\n",
    "#    },\n",
    "#    {\n",
    "#        \"$unwind\":\"$occurances\"\n",
    "#    },\n",
    "#    {\n",
    "#        \"$unwind\":\"$occurances.dates\"\n",
    "#    },\n",
    "#    {\n",
    "#        \"$group\":{\n",
    "#            \"_id\":{\n",
    "#                \"type\":\"$_id\",\n",
    "#                \"time\":\"$occurances.time\"\n",
    "#            },\n",
    "#            \"average_count\":{\"$avg\":\"$occurances.dates.count\"}\n",
    "#        }\n",
    "#    },\n",
    "#    {\n",
    "#        \"$group\":{\n",
    "#            \"_id\":\"$_id.type\",\n",
    "#            \"times\":{\n",
    "#                \"$push\":{\n",
    "#                    \"time\":\"$_id.time\",\n",
    "#                    \"count\":\"$average_count\"\n",
    "#                }\n",
    "#            }\n",
    "#        }\n",
    "#    },\n",
    "#    {\n",
    "#        \"$out\":\"chicago_by_time\"\n",
    "#    }\n",
    "#]\n",
    "\n",
    "#chicago_by_time = list(chicago.aggregate(pipeline))"
   ]
  }
 ],
 "metadata": {
  "kernelspec": {
   "display_name": "dev",
   "language": "python",
   "name": "python3"
  },
  "language_info": {
   "codemirror_mode": {
    "name": "ipython",
    "version": 3
   },
   "file_extension": ".py",
   "mimetype": "text/x-python",
   "name": "python",
   "nbconvert_exporter": "python",
   "pygments_lexer": "ipython3",
   "version": "3.10.12"
  },
  "orig_nbformat": 4
 },
 "nbformat": 4,
 "nbformat_minor": 2
}
