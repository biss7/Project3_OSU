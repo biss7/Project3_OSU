{
 "cells": [
  {
   "cell_type": "code",
   "execution_count": 1,
   "metadata": {},
   "outputs": [],
   "source": [
    "# Import dependencies and libraries\n",
    "from pymongo import MongoClient\n",
    "import requests\n",
    "from pprint import pprint\n",
    "import pandas as pd\n",
    "from datetime import datetime"
   ]
  },
  {
   "cell_type": "code",
   "execution_count": 2,
   "metadata": {},
   "outputs": [],
   "source": [
    "# Create an instance of MongoClient\n",
    "mongo = MongoClient(port=27017)\n",
    "\n",
    "# Assign the database to a variable name\n",
    "db = mongo['crimes']\n",
    "\n",
    "# Assign the collection to a variable\n",
    "chicago = db['chicago']"
   ]
  },
  {
   "cell_type": "code",
   "execution_count": 3,
   "metadata": {},
   "outputs": [],
   "source": [
    "# Collect the data from the API\n",
    "url = \"https://data.cityofchicago.org/resource/ijzp-q8t2.json?$$app_token=7NHu8Y4PkgGZrMzrNtJwJ20bm\"\n",
    "response = requests.get(url)\n",
    "list_of_crimes = response.json()"
   ]
  },
  {
   "cell_type": "code",
   "execution_count": 4,
   "metadata": {},
   "outputs": [
    {
     "name": "stdout",
     "output_type": "stream",
     "text": [
      "{':@computed_region_43wa_7qmu': '45',\n",
      " ':@computed_region_6mkv_f3dw': '4299',\n",
      " ':@computed_region_8hcu_yrd4': '37',\n",
      " ':@computed_region_awaf_s7ux': '4',\n",
      " ':@computed_region_bdys_3d7i': '562',\n",
      " ':@computed_region_d3ds_rm58': '67',\n",
      " ':@computed_region_d9mm_jgwp': '25',\n",
      " ':@computed_region_rpca_8um6': '5',\n",
      " ':@computed_region_vrxf_vc4k': '26',\n",
      " 'arrest': False,\n",
      " 'beat': '1524',\n",
      " 'block': '008XX N LONG AVE',\n",
      " 'case_number': 'JG417579',\n",
      " 'community_area': '25',\n",
      " 'date': '2023-09-09T00:00:00.000',\n",
      " 'description': 'ATTEMPT - AUTOMOBILE',\n",
      " 'district': '015',\n",
      " 'domestic': False,\n",
      " 'fbi_code': '07',\n",
      " 'id': '13205083',\n",
      " 'iucr': '0920',\n",
      " 'latitude': '41.896083371',\n",
      " 'location': {'human_address': '{\"address\": \"\", \"city\": \"\", \"state\": \"\", '\n",
      "                               '\"zip\": \"\"}',\n",
      "              'latitude': '41.896083371',\n",
      "              'longitude': '-87.760679089'},\n",
      " 'location_description': 'STREET',\n",
      " 'longitude': '-87.760679089',\n",
      " 'primary_type': 'MOTOR VEHICLE THEFT',\n",
      " 'updated_on': '2023-09-16T15:42:58.000',\n",
      " 'ward': '37',\n",
      " 'x_coordinate': '1140158',\n",
      " 'y_coordinate': '1905243',\n",
      " 'year': '2023'}\n"
     ]
    }
   ],
   "source": [
    "# Select an item from the returned data to view\n",
    "item_to_view = list_of_crimes[0]\n",
    "pprint(item_to_view)"
   ]
  },
  {
   "cell_type": "code",
   "execution_count": 5,
   "metadata": {},
   "outputs": [
    {
     "data": {
      "text/plain": [
       "<pymongo.results.DeleteResult at 0x1987912f3c0>"
      ]
     },
     "execution_count": 5,
     "metadata": {},
     "output_type": "execute_result"
    }
   ],
   "source": [
    "# Remove all documents currently in the chicago collection. \n",
    "#This is a precautionary measure for times where retrieving data happens at multiple, inconsistent times. \n",
    "#It allows us to start fresh.\n",
    "chicago.delete_many({})"
   ]
  },
  {
   "cell_type": "code",
   "execution_count": 6,
   "metadata": {},
   "outputs": [],
   "source": [
    "# Loop through the list of crimes and only add those that are not currently in the collection.\n",
    "for crime_to_add in list_of_crimes:\n",
    "    if chicago.find_one({\"id\":crime_to_add[\"id\"]}) == None:\n",
    "        chicago.insert_one(crime_to_add)\n",
    "    else: print(f\"Crime is already in the database collection.\")\n"
   ]
  },
  {
   "cell_type": "code",
   "execution_count": 7,
   "metadata": {},
   "outputs": [
    {
     "data": {
      "text/plain": [
       "<pymongo.results.DeleteResult at 0x1987bd506c0>"
      ]
     },
     "execution_count": 7,
     "metadata": {},
     "output_type": "execute_result"
    }
   ],
   "source": [
    "# Filter out any data that doesn't contain a community_area.\n",
    "query = {\"community_area\": None}\n",
    "chicago.delete_many(query)"
   ]
  },
  {
   "cell_type": "code",
   "execution_count": 8,
   "metadata": {},
   "outputs": [
    {
     "data": {
      "text/plain": [
       "<pymongo.results.DeleteResult at 0x1987bd50240>"
      ]
     },
     "execution_count": 8,
     "metadata": {},
     "output_type": "execute_result"
    }
   ],
   "source": [
    "# Filter out any data that doesn't contain a latitude.\n",
    "query = {\"latitude\": None}\n",
    "chicago.delete_many(query)"
   ]
  },
  {
   "cell_type": "code",
   "execution_count": 9,
   "metadata": {},
   "outputs": [
    {
     "data": {
      "text/plain": [
       "<pymongo.results.DeleteResult at 0x1987bd2e3c0>"
      ]
     },
     "execution_count": 9,
     "metadata": {},
     "output_type": "execute_result"
    }
   ],
   "source": [
    "# Filter out any data that doesn't contain a longitude.\n",
    "query = {\"longitude\": None}\n",
    "chicago.delete_many(query)"
   ]
  },
  {
   "cell_type": "code",
   "execution_count": 10,
   "metadata": {},
   "outputs": [],
   "source": [
    "# Change the date formatting. \n",
    "for document in chicago.find():\n",
    "    datetime_string = document[\"date\"]\n",
    "    python_datetime = datetime.strptime(datetime_string, \"%Y-%m-%dT%H:%M:%S.%f\")\n",
    "    date = python_datetime.date().strftime(\"%m/%d/%Y\")\n",
    "    time = python_datetime.time().strftime(\"%H:%M\")\n",
    "    chicago.update_one(\n",
    "        {\"id\": document[\"id\"]},\n",
    "        {\n",
    "            \"$set\":{\n",
    "                \"occurance_date\": date,\n",
    "                \"occurance_time\": time\n",
    "            }\n",
    "        }\n",
    "    )"
   ]
  },
  {
   "cell_type": "code",
   "execution_count": 11,
   "metadata": {},
   "outputs": [
    {
     "data": {
      "text/plain": [
       "<pymongo.results.DeleteResult at 0x1987c3ff240>"
      ]
     },
     "execution_count": 11,
     "metadata": {},
     "output_type": "execute_result"
    }
   ],
   "source": [
    "# The data may come through with mutliple dates. Filter out all days, except what is predicted to be the latest full day.\n",
    "available_dates = chicago.find().sort(\"occurance_date\", -1).distinct(\"occurance_date\")\n",
    "if len(available_dates)>2:\n",
    "    selected_date = available_dates[len(available_dates)-2]\n",
    "else:\n",
    "    selected_date = available_dates[len(available_dates)-1]\n",
    "\n",
    "query = {\"occurance_date\": {\"$ne\": selected_date}}\n",
    "chicago.delete_many(query)"
   ]
  },
  {
   "cell_type": "code",
   "execution_count": 12,
   "metadata": {},
   "outputs": [],
   "source": [
    "# Place a zero in front of any single character community_area numbers values.\n",
    "for document in chicago.find():\n",
    "    number = document[\"community_area\"]\n",
    "    if len(number)==1:\n",
    "        chicago.update_one(\n",
    "            {\"id\": document[\"id\"]},\n",
    "            {\"$set\": {\"community_area\": f\"0{number}\"}}\n",
    "        )"
   ]
  },
  {
   "cell_type": "code",
   "execution_count": 13,
   "metadata": {},
   "outputs": [],
   "source": [
    "# Create categories for the times. \n",
    "for document in chicago.find():\n",
    "    time_string = document[\"occurance_time\"]\n",
    "    if time_string.startswith((\"00\",\"01\",\"02\",\"03\",\"04\",\"05\")):\n",
    "        chicago.update_one(\n",
    "            {\"id\": document[\"id\"]},\n",
    "            {\n",
    "                \"$set\":{\n",
    "                    \"time_group\": \"A. Midnight - 5:59AM\",\n",
    "                }\n",
    "            }\n",
    "        )\n",
    "    elif time_string.startswith((\"06\",\"07\",\"08\",\"09\",\"10\",\"11\")):\n",
    "        chicago.update_one(\n",
    "            {\"id\": document[\"id\"]},\n",
    "            {\n",
    "                \"$set\":{\n",
    "                    \"time_group\": \"B. 6AM - 11:59AM\",\n",
    "                }\n",
    "            }\n",
    "        )\n",
    "    elif time_string.startswith((\"12\",\"13\",\"14\",\"15\",\"16\",\"17\")):\n",
    "        chicago.update_one(\n",
    "            {\"id\": document[\"id\"]},\n",
    "            {\n",
    "                \"$set\":{\n",
    "                    \"time_group\": \"C. Noon - 5:59PM\",\n",
    "                }\n",
    "            }\n",
    "        )\n",
    "    else:\n",
    "        chicago.update_one(\n",
    "            {\"id\": document[\"id\"]},\n",
    "            {\n",
    "                \"$set\":{\n",
    "                    \"time_group\": \"D. 6:00PM - 11:59PM\",\n",
    "                }\n",
    "            }\n",
    "        )"
   ]
  },
  {
   "cell_type": "code",
   "execution_count": 14,
   "metadata": {},
   "outputs": [],
   "source": [
    "# Group by community_area with subgroups of primary_types. Save results as a new collection called chicago_community_by_crime.\n",
    "pipeline = [\n",
    "    {\n",
    "        \"$group\":{\n",
    "            \"_id\":{\n",
    "                \"community_area\":\"$community_area\",\n",
    "                \"primary_type\":\"$primary_type\"\n",
    "            },\n",
    "            \"count\":{\"$sum\":1}\n",
    "        }\n",
    "    },\n",
    "    {\n",
    "        \"$group\":{\n",
    "            \"_id\": \"$_id.community_area\",\n",
    "            \"crime\":{\n",
    "                \"$push\":{\n",
    "                    \"type\":\"$_id.primary_type\",\n",
    "                    \"count\":\"$count\"\n",
    "                }\n",
    "            }\n",
    "        }\n",
    "    },\n",
    "    {\n",
    "        \"$unwind\": \"$crime\"\n",
    "    },\n",
    "    {\n",
    "        \"$sort\": {\"crime.type\": 1}\n",
    "    },\n",
    "    {\n",
    "        \"$group\": {\n",
    "            \"_id\": \"$_id\",\n",
    "            \"crime\": {\"$push\": \"$crime\"}\n",
    "        }\n",
    "    },\n",
    "    {\n",
    "        \"$sort\": {\"_id\":1}\n",
    "    },\n",
    "    {\n",
    "        \"$out\":\"chicago_community_by_crime\"\n",
    "    }\n",
    "]\n",
    "\n",
    "chicago_community_by_crime = list(chicago.aggregate(pipeline))"
   ]
  },
  {
   "cell_type": "code",
   "execution_count": 15,
   "metadata": {},
   "outputs": [],
   "source": [
    "# Group by primary_types with subgroups of community_area. Save results as a new collection called chicago_crime_by_community.\n",
    "pipeline = [\n",
    "    {\n",
    "        \"$group\":{\n",
    "            \"_id\":{\n",
    "                \"primary_type\":\"$primary_type\",\n",
    "                \"community_area\":\"$community_area\",\n",
    "            },\n",
    "            \"count\":{\"$sum\":1}\n",
    "        }\n",
    "    },\n",
    "    {\n",
    "        \"$group\":{\n",
    "            \"_id\": \"$_id.primary_type\",\n",
    "            \"communities\":{\n",
    "                \"$push\":{\n",
    "                    \"community\":\"$_id.community_area\",\n",
    "                    \"count\":\"$count\"\n",
    "                }\n",
    "            }\n",
    "        }\n",
    "    },\n",
    "    {\n",
    "        \"$unwind\": \"$communities\"\n",
    "    },\n",
    "    {\n",
    "        \"$sort\": {\"communities.community\": 1}\n",
    "    },\n",
    "    {\n",
    "        \"$group\": {\n",
    "            \"_id\": \"$_id\",\n",
    "            \"communities\": {\"$push\": \"$communities\"}\n",
    "        }\n",
    "    },\n",
    "    {\n",
    "        \"$sort\": {\"_id\":1}\n",
    "    },\n",
    "    {\n",
    "        \"$out\":\"chicago_crime_by_community\"\n",
    "    }\n",
    "]\n",
    "\n",
    "chicago_crime_by_community = list(chicago.aggregate(pipeline))"
   ]
  },
  {
   "cell_type": "code",
   "execution_count": 16,
   "metadata": {},
   "outputs": [],
   "source": [
    "# Group by primary_types with subgroups of time_group. Save results as a new collection called chicago_crime_by_time.\n",
    "pipeline = [\n",
    "    {\n",
    "        \"$group\":{\n",
    "            \"_id\":{\n",
    "                \"primary_type\":\"$primary_type\",\n",
    "                \"time_group\":\"$time_group\",\n",
    "            },\n",
    "            \"count\":{\"$sum\":1}\n",
    "        }\n",
    "    },\n",
    "    {\n",
    "        \"$group\":{\n",
    "            \"_id\": \"$_id.primary_type\",\n",
    "            \"times\":{\n",
    "                \"$push\":{\n",
    "                    \"time\":\"$_id.time_group\",\n",
    "                    \"count\":\"$count\"\n",
    "                }\n",
    "            },\n",
    "        }\n",
    "    },\n",
    "    {\n",
    "        \"$unwind\": \"$times\"\n",
    "    },\n",
    "    {\n",
    "        \"$sort\": {\"times.time\": 1}\n",
    "    },\n",
    "    {\n",
    "        \"$group\": {\n",
    "            \"_id\": \"$_id\",\n",
    "            \"times\": {\"$push\": \"$times\"}\n",
    "        }\n",
    "    },\n",
    "    {\n",
    "        \"$sort\": {\"_id\":1}\n",
    "    },\n",
    "    {\n",
    "        \"$out\":\"chicago_crime_by_time\"\n",
    "    }\n",
    "]\n",
    "\n",
    "chicago_crime_by_time = list(chicago.aggregate(pipeline))"
   ]
  }
 ],
 "metadata": {
  "kernelspec": {
   "display_name": "dev",
   "language": "python",
   "name": "python3"
  },
  "language_info": {
   "codemirror_mode": {
    "name": "ipython",
    "version": 3
   },
   "file_extension": ".py",
   "mimetype": "text/x-python",
   "name": "python",
   "nbconvert_exporter": "python",
   "pygments_lexer": "ipython3",
   "version": "3.10.12"
  },
  "orig_nbformat": 4
 },
 "nbformat": 4,
 "nbformat_minor": 2
}
